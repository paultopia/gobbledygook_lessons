{
 "cells": [
  {
   "cell_type": "markdown",
   "metadata": {},
   "source": [
    "- Title: Files and How Computers Represent Data \n",
    "- Date: 2018-11-30  \n",
    "- Tags: python, programming, week2"
   ]
  },
  {
   "cell_type": "markdown",
   "metadata": {},
   "source": [
    "In this lesson, we're going to learn how to open files and work with data from the disk. We'll start with the mechanical process of opening text files, and then move on to learn a little bit more about different kinds of data you'll see.\n",
    "\n",
    "Here's the basic method of opening and reading text files. Suppose I have a file called hello.txt in my working directory.  (Your working directory is the directory you run Python from on your hard drive.  For those of you using Azure Notebooks, this should be your library, but talk to me if you see a file there and can't read it from Python.)"
   ]
  },
  {
   "cell_type": "code",
   "execution_count": 1,
   "metadata": {},
   "outputs": [
    {
     "name": "stdout",
     "output_type": "stream",
     "text": [
      "hello, I am a text file\n"
     ]
    }
   ],
   "source": [
    "with open(\"hello.txt\", 'r') as my_awesome_file:\n",
    "    hello = my_awesome_file.read()\n",
    "print(hello)"
   ]
  },
  {
   "cell_type": "markdown",
   "metadata": {},
   "source": [
    "Let's break down that code.  The first line starting with `with` is known as a *context manager*.  Any time you see `with` in Python, what you should think is \"this is going to change what's going on in my computer for the duration of this block.\"  \n",
    "\n",
    "In this case, you can pretty much read exactly what's going to happen like it's English rather than Python. For the duration of the indented block below that first line, all the code in there is going to be executed `with` the file `hello.text` being `open` and hence available for reading. Inside that block, the name `my_awesome_file` is going to be assigned to the open file (that's what the `as` statement does).  The second parameter to the `open` function, the `'r'`, just indicates that you're going to open it for reading---instead of, for example, opening it for writing, in which case the `r` would change to a `w`.  You can also open a file to append with `a`---to add more data to the bottom of the file.\n",
    "\n",
    "The thing that's assigned to `my_open_file` is called a *file handle*, it's just a normal Python object that gives you access to the data inside. In this case, that object has a method, `read()`, that gives you the contents of the file as a string. Which we then printed.\n",
    "\n",
    "Let's look at writing and appending."
   ]
  },
  {
   "cell_type": "code",
   "execution_count": 2,
   "metadata": {},
   "outputs": [
    {
     "name": "stdout",
     "output_type": "stream",
     "text": [
      "I contain something different now!!\n"
     ]
    }
   ],
   "source": [
    "with open(\"hello.txt\", \"w\") as still_my_file:\n",
    "    still_my_file.write(\"I contain something different now!!\")\n",
    "\n",
    "with open(\"hello.txt\", 'r') as my_awesome_file:\n",
    "    hello = my_awesome_file.read()\n",
    "print(hello)"
   ]
  },
  {
   "cell_type": "markdown",
   "metadata": {},
   "source": [
    "You see that when we open a file for writing, we overwrite what was already there.  What if you don't want to do that? "
   ]
  },
  {
   "cell_type": "code",
   "execution_count": 3,
   "metadata": {},
   "outputs": [
    {
     "name": "stdout",
     "output_type": "stream",
     "text": [
      "I contain something different now!!Hi again!Hi human user!\n"
     ]
    }
   ],
   "source": [
    "with open(\"hello.txt\", \"a\") as my_file:\n",
    "    my_file.write(\"Hi again!\")\n",
    "    my_file.write(\"Hi human user!\")\n",
    "\n",
    "with open(\"hello.txt\", 'r') as my_awesome_file:\n",
    "    hello = my_awesome_file.read()\n",
    "print(hello)"
   ]
  },
  {
   "cell_type": "markdown",
   "metadata": {},
   "source": [
    "Now suppose we want to put more lines in the file, and then read the file line by line into a list.  We could do that, in the first case, by adding the special character `'\\n'`, and in the second case, by using the `readlines()` method of the file object."
   ]
  },
  {
   "cell_type": "code",
   "execution_count": 4,
   "metadata": {},
   "outputs": [
    {
     "name": "stdout",
     "output_type": "stream",
     "text": [
      "I contain something different now!!Hi again!Hi human user!\n",
      "Here's a newline.  But:\n",
      "Newlines don't have to be at the start of a string.\n"
     ]
    }
   ],
   "source": [
    "with open(\"hello.txt\", \"a\") as my_file:\n",
    "    my_file.write(\"\\nHere's a newline.  \")\n",
    "    my_file.write(\"But:\\nNewlines don't have to be at the start of a string.\")\n",
    "\n",
    "with open(\"hello.txt\", 'r') as my_awesome_file:\n",
    "    hello = my_awesome_file.read()\n",
    "print(hello)"
   ]
  },
  {
   "cell_type": "code",
   "execution_count": 5,
   "metadata": {},
   "outputs": [
    {
     "name": "stdout",
     "output_type": "stream",
     "text": [
      "['I contain something different now!!Hi again!Hi human user!\\n', \"Here's a newline.  But:\\n\", \"Newlines don't have to be at the start of a string.\"]\n"
     ]
    }
   ],
   "source": [
    "with open(\"hello.txt\", 'r') as my_awesome_file:\n",
    "    hellolist = my_awesome_file.readlines()\n",
    "print(hellolist)"
   ]
  },
  {
   "cell_type": "markdown",
   "metadata": {},
   "source": [
    "As far as Python is concerned, there are two kinds of files that you might want to open: text files and binary files. If you want to open a binary file, you pass `'rb'` or `'wb'` to `open()` as the second parameter, depending on whether you want to read or write the binary file. \n",
    "\n",
    "Pretty much all the files you'll be working with in this course will be text files: they'll be txt files, csv files (spreadsheet-like data stored in a plain text format), json files (key-value and list-like data stored in a plain text format), or the like. Here are some common binary file formats: \n",
    "\n",
    "- zip files (compressed file archives)  \n",
    "- Microsoft Word docx files  \n",
    "- PDF files  \n",
    "- images of all kinds (with the exception of SVG files, which are fancy vector images that are stored as text\n",
    "\n",
    "In almost every case, it'll make more sense to use a function from a library to open a binary file, rather than manipulate it directly. There are libraries to handle PDFs, Word files, and the like. So I won't belabor it here, but the difference between reading as text and reading as binary is one you need in your head for a moment (I'm about to break it)."
   ]
  },
  {
   "cell_type": "markdown",
   "metadata": {},
   "source": [
    "For reading CSV files, the best choice is to use the *Pandas* library, which should be installed for you already, rather than the built-in Python CSV library. The latter is a bit obscurely organized. "
   ]
  },
  {
   "cell_type": "code",
   "execution_count": 6,
   "metadata": {},
   "outputs": [],
   "source": [
    "import pandas as pd\n",
    "mydata = pd.read_csv(\"rol-scores.csv\")"
   ]
  },
  {
   "cell_type": "code",
   "execution_count": 7,
   "metadata": {},
   "outputs": [
    {
     "data": {
      "text/html": [
       "<div>\n",
       "<style scoped>\n",
       "    .dataframe tbody tr th:only-of-type {\n",
       "        vertical-align: middle;\n",
       "    }\n",
       "\n",
       "    .dataframe tbody tr th {\n",
       "        vertical-align: top;\n",
       "    }\n",
       "\n",
       "    .dataframe thead th {\n",
       "        text-align: right;\n",
       "    }\n",
       "</style>\n",
       "<table border=\"1\" class=\"dataframe\">\n",
       "  <thead>\n",
       "    <tr style=\"text-align: right;\">\n",
       "      <th></th>\n",
       "      <th>State</th>\n",
       "      <th>Pop. In Millions for 2012</th>\n",
       "      <th>RoLScore</th>\n",
       "      <th>elec_pros</th>\n",
       "      <th>pol_plur</th>\n",
       "      <th>free_expr</th>\n",
       "      <th>assoc_org</th>\n",
       "      <th>per_auto</th>\n",
       "      <th>2012GDP</th>\n",
       "      <th>hprop</th>\n",
       "      <th>hfisc</th>\n",
       "      <th>hbiz</th>\n",
       "      <th>hlab</th>\n",
       "      <th>htra</th>\n",
       "      <th>hinv</th>\n",
       "    </tr>\n",
       "  </thead>\n",
       "  <tbody>\n",
       "    <tr>\n",
       "      <th>0</th>\n",
       "      <td>Albania</td>\n",
       "      <td>3.2</td>\n",
       "      <td>42.60</td>\n",
       "      <td>8</td>\n",
       "      <td>10</td>\n",
       "      <td>13</td>\n",
       "      <td>8</td>\n",
       "      <td>9</td>\n",
       "      <td>1.264810e+10</td>\n",
       "      <td>30</td>\n",
       "      <td>92.6</td>\n",
       "      <td>81.0</td>\n",
       "      <td>49.0</td>\n",
       "      <td>79.8</td>\n",
       "      <td>65</td>\n",
       "    </tr>\n",
       "    <tr>\n",
       "      <th>1</th>\n",
       "      <td>Argentina</td>\n",
       "      <td>41.1</td>\n",
       "      <td>51.94</td>\n",
       "      <td>11</td>\n",
       "      <td>15</td>\n",
       "      <td>14</td>\n",
       "      <td>11</td>\n",
       "      <td>13</td>\n",
       "      <td>4.755020e+11</td>\n",
       "      <td>15</td>\n",
       "      <td>64.3</td>\n",
       "      <td>60.1</td>\n",
       "      <td>47.4</td>\n",
       "      <td>67.6</td>\n",
       "      <td>40</td>\n",
       "    </tr>\n",
       "    <tr>\n",
       "      <th>2</th>\n",
       "      <td>Australia</td>\n",
       "      <td>22.7</td>\n",
       "      <td>73.28</td>\n",
       "      <td>12</td>\n",
       "      <td>15</td>\n",
       "      <td>16</td>\n",
       "      <td>12</td>\n",
       "      <td>15</td>\n",
       "      <td>1.532410e+12</td>\n",
       "      <td>90</td>\n",
       "      <td>66.4</td>\n",
       "      <td>95.5</td>\n",
       "      <td>83.5</td>\n",
       "      <td>86.2</td>\n",
       "      <td>80</td>\n",
       "    </tr>\n",
       "    <tr>\n",
       "      <th>3</th>\n",
       "      <td>Austria</td>\n",
       "      <td>8.4</td>\n",
       "      <td>73.15</td>\n",
       "      <td>12</td>\n",
       "      <td>15</td>\n",
       "      <td>16</td>\n",
       "      <td>12</td>\n",
       "      <td>15</td>\n",
       "      <td>3.947080e+11</td>\n",
       "      <td>90</td>\n",
       "      <td>51.1</td>\n",
       "      <td>73.6</td>\n",
       "      <td>80.4</td>\n",
       "      <td>86.8</td>\n",
       "      <td>85</td>\n",
       "    </tr>\n",
       "    <tr>\n",
       "      <th>4</th>\n",
       "      <td>Bangladesh</td>\n",
       "      <td>154.7</td>\n",
       "      <td>31.57</td>\n",
       "      <td>9</td>\n",
       "      <td>11</td>\n",
       "      <td>9</td>\n",
       "      <td>8</td>\n",
       "      <td>9</td>\n",
       "      <td>1.163550e+11</td>\n",
       "      <td>20</td>\n",
       "      <td>72.7</td>\n",
       "      <td>68.0</td>\n",
       "      <td>51.9</td>\n",
       "      <td>54.0</td>\n",
       "      <td>55</td>\n",
       "    </tr>\n",
       "  </tbody>\n",
       "</table>\n",
       "</div>"
      ],
      "text/plain": [
       "         State  Pop. In Millions for 2012  RoLScore  elec_pros   pol_plur  \\\n",
       "0     Albania                         3.2     42.60           8        10   \n",
       "1    Argentina                       41.1     51.94          11        15   \n",
       "2   Australia                        22.7     73.28          12        15   \n",
       "3      Austria                        8.4     73.15          12        15   \n",
       "4  Bangladesh                       154.7     31.57           9        11   \n",
       "\n",
       "   free_expr  assoc_org  per_auto       2012GDP  hprop  hfisc  hbiz  hlab  \\\n",
       "0         13          8         9  1.264810e+10     30   92.6  81.0  49.0   \n",
       "1         14         11        13  4.755020e+11     15   64.3  60.1  47.4   \n",
       "2         16         12        15  1.532410e+12     90   66.4  95.5  83.5   \n",
       "3         16         12        15  3.947080e+11     90   51.1  73.6  80.4   \n",
       "4          9          8         9  1.163550e+11     20   72.7  68.0  51.9   \n",
       "\n",
       "   htra  hinv  \n",
       "0  79.8    65  \n",
       "1  67.6    40  \n",
       "2  86.2    80  \n",
       "3  86.8    85  \n",
       "4  54.0    55  "
      ]
     },
     "execution_count": 7,
     "metadata": {},
     "output_type": "execute_result"
    }
   ],
   "source": [
    "mydata.head()"
   ]
  },
  {
   "cell_type": "markdown",
   "metadata": {},
   "source": [
    "We'll spend some time in Pandas later on, but I wanted you to get a basic look at it now. We just opened a CSV file containing data from my rule of law book (shameless plug), [The Rule of Law in the Real World](http://rulelaw.net). "
   ]
  },
  {
   "cell_type": "markdown",
   "metadata": {},
   "source": [
    "Ok, so remember how I said that there's a difference between text and binary files?  That's... not entirely honest. Computers ultimately store everything in binary, just as a bunch of ones and zeroes. \n",
    "\n",
    "You won't have to work with the ones and zeroes directly. But you might have to worry about the layer of abstraction one level up. The way that Python mostly sees all kinds of files is as a series of *bytes*---eight-bit binary numbers. This includes text files!  So, if we want, we can open up a text file as bytes.  (Let's reset our text file to its original state first, so it's nice and short.)"
   ]
  },
  {
   "cell_type": "code",
   "execution_count": 8,
   "metadata": {},
   "outputs": [],
   "source": [
    "with open(\"hello.txt\", 'w') as mf:\n",
    "    mf.write(\"hello, I am a text file\")"
   ]
  },
  {
   "cell_type": "markdown",
   "metadata": {},
   "source": [
    "Now to open it as binary:"
   ]
  },
  {
   "cell_type": "code",
   "execution_count": 9,
   "metadata": {},
   "outputs": [
    {
     "name": "stdout",
     "output_type": "stream",
     "text": [
      "b'hello, I am a text file'\n"
     ]
    }
   ],
   "source": [
    "with open(\"hello.txt\", \"rb\") as binary_text:\n",
    "    data = binary_text.read()\n",
    "    print(data)"
   ]
  },
  {
   "cell_type": "markdown",
   "metadata": {},
   "source": [
    "Not all that exciting, right? The b in front of the string just means that it's held in memory as bytes---but Python still knows it's a string and will happily print it out for you just like a text file.  If you really want to see an approximation of what things look like under the hood ..."
   ]
  },
  {
   "cell_type": "code",
   "execution_count": 10,
   "metadata": {},
   "outputs": [
    {
     "name": "stdout",
     "output_type": "stream",
     "text": [
      "104\n",
      "101\n",
      "108\n",
      "108\n",
      "111\n",
      "44\n",
      "32\n",
      "73\n",
      "32\n",
      "97\n",
      "109\n",
      "32\n",
      "97\n",
      "32\n",
      "116\n",
      "101\n",
      "120\n",
      "116\n",
      "32\n",
      "102\n",
      "105\n",
      "108\n",
      "101\n"
     ]
    }
   ],
   "source": [
    "for x in data:\n",
    "    print(x)"
   ]
  },
  {
   "cell_type": "markdown",
   "metadata": {},
   "source": [
    "What's going on there?  Well, when you asked for it to be binary, Python read the string as bytes, and the internal representation is a series of numbers. Those numbers correspond to letters.  To get a string back out of it, you have to *decode* it:"
   ]
  },
  {
   "cell_type": "code",
   "execution_count": 11,
   "metadata": {},
   "outputs": [
    {
     "name": "stdout",
     "output_type": "stream",
     "text": [
      "h\n",
      "e\n",
      "l\n",
      "l\n",
      "o\n",
      ",\n",
      " \n",
      "I\n",
      " \n",
      "a\n",
      "m\n",
      " \n",
      "a\n",
      " \n",
      "t\n",
      "e\n",
      "x\n",
      "t\n",
      " \n",
      "f\n",
      "i\n",
      "l\n",
      "e\n"
     ]
    }
   ],
   "source": [
    "decoded = data.decode(\"utf-8\")\n",
    "for x in decoded:\n",
    "    print(x)"
   ]
  },
  {
   "cell_type": "markdown",
   "metadata": {},
   "source": [
    "Why does this stuff all matter?  Well, basically, it matters because languages other than English exist. \n",
    "\n",
    "See, if strings are just sequences of numbers, there needs to be a rule on how to translate numbers to things humans can read and back.  Humans can't read \"104 101 108 108 111\" as \"hello\" very easily! \n",
    "\n",
    "Back in the early days of computing, this was easy but lazy. The only people that the people who made computers cared about, at least in the U.S., were English speakers. And so the main rule for how to translate numbers to letters---known as an \"encoding\"---was called \"ASCII.\"  It contained the entire alphabet that we're familiar with in the U.S., plus some punctuation, and represented it all as a series of numbers from 0 to 127.  [Here's a table of ASCII numbers to letters](http://www.asciitable.com/).  You can still see that today.  For example:"
   ]
  },
  {
   "cell_type": "code",
   "execution_count": 12,
   "metadata": {},
   "outputs": [
    {
     "data": {
      "text/plain": [
       "'A'"
      ]
     },
     "execution_count": 12,
     "metadata": {},
     "output_type": "execute_result"
    }
   ],
   "source": [
    "chr(65)"
   ]
  },
  {
   "cell_type": "markdown",
   "metadata": {},
   "source": [
    "Read that as \"give me the character at number 65.\" \n",
    "\n",
    "But today, we don't use ASCII, and Python's internal representation of characters isn't ASCII.  To prove that, let's look at some big numbers for characters!"
   ]
  },
  {
   "cell_type": "code",
   "execution_count": 13,
   "metadata": {},
   "outputs": [
    {
     "data": {
      "text/plain": [
       "'😄'"
      ]
     },
     "execution_count": 13,
     "metadata": {},
     "output_type": "execute_result"
    }
   ],
   "source": [
    "chr(128516)"
   ]
  },
  {
   "cell_type": "markdown",
   "metadata": {},
   "source": [
    "That's right.  It's an emoji.  We have emojis now.  But, more importantly, we have letters from other languages. Like Japanese:"
   ]
  },
  {
   "cell_type": "code",
   "execution_count": 14,
   "metadata": {},
   "outputs": [
    {
     "data": {
      "text/plain": [
       "'き'"
      ]
     },
     "execution_count": 14,
     "metadata": {},
     "output_type": "execute_result"
    }
   ],
   "source": [
    "chr(12365)"
   ]
  },
  {
   "cell_type": "markdown",
   "metadata": {},
   "source": [
    "The new text encoding that most things are in these days is called *UTF-8*.  It's much, much, much bigger than ASCII, which is what allows us to have Japanese and emojis and more besides.\n",
    "\n",
    "The catch, and why this is sometimes a problem, is that in addition to ASCII and UTF-8, there are lots of other character encodings floating around out there.  For example, there's an encoding called Latin-1 that a bunch of Microsoft products have been known to use. Sometimes, you'll see data (like maybe saved as a CSV from some version of Excel) in that character encoding, and then everything will look funny.  If you've ever opened a file with a bunch of question marks and weird black diamonds in place of characters you've expected to see (known as [mojibake](https://en.wikipedia.org/wiki/Mojibake)), that's because the program you used to open it thought it was a different character encoding than the program used to save it did. "
   ]
  },
  {
   "cell_type": "markdown",
   "metadata": {},
   "source": [
    "For the most part, this shouldn't be a problem for you in this class, as long as you follow the following basic rules: \n",
    "\n",
    "1.  Use a version of Python numbered 3 or greater.  Python 2.x had a lot of screwed up stuff with string encodings that Python 3 fixed. \n",
    "\n",
    "2.  Always open and save anything in UTF-8.  Don't touch any other encoding, ever. \n",
    "\n",
    "3.  If you get unlucky enough to find something in another encoding, try Latin-1.\n",
    "\n",
    "Also, ideally your system default coding is UTF-8 (UTF-16 will also do).  You can check that with the following code:"
   ]
  },
  {
   "cell_type": "code",
   "execution_count": 15,
   "metadata": {},
   "outputs": [
    {
     "data": {
      "text/plain": [
       "'utf-8'"
      ]
     },
     "execution_count": 15,
     "metadata": {},
     "output_type": "execute_result"
    }
   ],
   "source": [
    "import sys\n",
    "sys.getdefaultencoding()"
   ]
  },
  {
   "cell_type": "markdown",
   "metadata": {},
   "source": [
    "Finally, some terminology.  Decoding means converting from binary to a string. Encoding means converting from a string to a binary with a particular encoding. \n",
    "\n",
    "If you run into problems with this, usually involving Python complaining that a codec can't decode something, come talk to me and we'll dig into it!"
   ]
  },
  {
   "cell_type": "code",
   "execution_count": null,
   "metadata": {},
   "outputs": [],
   "source": []
  }
 ],
 "metadata": {
  "kernelspec": {
   "display_name": "library_gobbledygook",
   "language": "python",
   "name": "library_gobbledygook"
  },
  "language_info": {
   "codemirror_mode": {
    "name": "ipython",
    "version": 3
   },
   "file_extension": ".py",
   "mimetype": "text/x-python",
   "name": "python",
   "nbconvert_exporter": "python",
   "pygments_lexer": "ipython3",
   "version": "3.6.7"
  }
 },
 "nbformat": 4,
 "nbformat_minor": 2
}
