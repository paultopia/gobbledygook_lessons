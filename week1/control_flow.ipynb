{
 "cells": [
  {
   "cell_type": "markdown",
   "metadata": {},
   "source": [
    "- Title: More Loops and Control Flow (draft)\n",
    "- Date: 2018-12-21\n",
    "- Tags: python, programming"
   ]
  },
  {
   "cell_type": "markdown",
   "metadata": {},
   "source": [
    "In this lesson, we'll think about more ways to direct Python to do things repeatedly, or conditionally.  \n",
    "\n",
    "Let's start with more loops. I showed you the while loop before, remember?"
   ]
  },
  {
   "cell_type": "code",
   "execution_count": 1,
   "metadata": {},
   "outputs": [
    {
     "name": "stdout",
     "output_type": "stream",
     "text": [
      "10\n",
      "9\n",
      "8\n",
      "7\n",
      "6\n",
      "5\n",
      "4\n",
      "3\n",
      "2\n",
      "1\n"
     ]
    }
   ],
   "source": [
    "number = 10\n",
    "while number > 0:\n",
    "    print(number)\n",
    "    number = number - 1"
   ]
  },
  {
   "cell_type": "markdown",
   "metadata": {},
   "source": [
    "There's another kind of loop, called a `for` loop, which is a little bit more complex. Here's how one looks: "
   ]
  },
  {
   "cell_type": "code",
   "execution_count": 2,
   "metadata": {},
   "outputs": [
    {
     "name": "stdout",
     "output_type": "stream",
     "text": [
      "c\n",
      "a\n",
      "t\n"
     ]
    }
   ],
   "source": [
    "for letter in \"cat\":\n",
    "    print(letter)"
   ]
  },
  {
   "cell_type": "markdown",
   "metadata": {},
   "source": [
    "Here's how that works: some kinds of data types in Python are known as *iterables* (we'll look at what those are a bit later). Basically, that's anything that can be represented as a list of something else. So \"cat\" for example can be represented as a list of letters c, a, and t. \n",
    "\n",
    "Let's go into the details.\n",
    "\n",
    "- The `for` keyword starts our for loop.\n",
    "\n",
    "- Next comes a variable name, which gets assigned to every element of the iterator in the body of the loop. Here the variable is `letter`\n",
    "\n",
    "- Next comes the keyword `in`.\n",
    "\n",
    "- Next comes the iterator we're iterating over, and then a colon as usual to start a block. \n",
    "\n",
    "- Finally, the body of the loop, indented as usual. \n",
    "\n",
    "The for loop will loop over each element of the iterator, applying the body of the loop to each element.\n",
    "\n",
    "Importantly, loops (for loops or while loops) don't create their own scopes. That means that they can accidentally overwrite the value of some other variable in the scope that the loop is in.  For example:"
   ]
  },
  {
   "cell_type": "code",
   "execution_count": 3,
   "metadata": {},
   "outputs": [
    {
     "name": "stdout",
     "output_type": "stream",
     "text": [
      "letter is: \n",
      "Dear Sir or Madam:\n",
      "I am a very good lawyer. Please give me a job.\n",
      "\n",
      "-You.\n",
      "M\n",
      "E\n",
      "O\n",
      "W\n",
      "now, letter is: \n",
      "w\n"
     ]
    }
   ],
   "source": [
    "letter = \"Dear Sir or Madam:\\nI am a very good lawyer. Please give me a job.\\n\\n-You.\"\n",
    "print(\"letter is: \")\n",
    "print(letter)\n",
    "\n",
    "for letter in \"meow\":\n",
    "    print(letter.upper())\n",
    "\n",
    "print(\"now, letter is: \")\n",
    "print(letter)"
   ]
  },
  {
   "cell_type": "markdown",
   "metadata": {},
   "source": [
    "A common use of for loops is to do something a specified number of times. In order to do so, we use the built-in `range()` function, which produces an iterator that starts at 0 and goes up to the number *before* the number you pass to it.  (Actually, `range()` technically isn't a function, but we'll treat it like one here. See the Python docs if you want more.)"
   ]
  },
  {
   "cell_type": "code",
   "execution_count": 4,
   "metadata": {},
   "outputs": [
    {
     "name": "stdout",
     "output_type": "stream",
     "text": [
      "0\n",
      "1\n",
      "2\n",
      "3\n",
      "4\n",
      "5\n",
      "6\n",
      "7\n",
      "8\n",
      "9\n"
     ]
    }
   ],
   "source": [
    "for number in range(10):\n",
    "    print(number)"
   ]
  },
  {
   "cell_type": "code",
   "execution_count": 5,
   "metadata": {},
   "outputs": [
    {
     "name": "stdout",
     "output_type": "stream",
     "text": [
      "There's no place like home!\n",
      "There's no place like home!\n",
      "There's no place like home!\n"
     ]
    }
   ],
   "source": [
    "for ruby_slipper in range(3):\n",
    "    print(\"There's no place like home!\")"
   ]
  },
  {
   "cell_type": "markdown",
   "metadata": {},
   "source": [
    "`range()` actually takes 3 arguments, `start`, `stop`, and `step`. Start is the number to start at, and has a default value of 0.  Stop is the number to stop at. Step is the number to go by, and has a default value of 1. That means that you can do more complicated ranges by supplying values in place of those defaults. "
   ]
  },
  {
   "cell_type": "code",
   "execution_count": 6,
   "metadata": {},
   "outputs": [
    {
     "name": "stdout",
     "output_type": "stream",
     "text": [
      "5\n",
      "6\n",
      "7\n",
      "8\n",
      "9\n"
     ]
    }
   ],
   "source": [
    "for n in range(5, 10):\n",
    "    print(n)"
   ]
  },
  {
   "cell_type": "code",
   "execution_count": 7,
   "metadata": {},
   "outputs": [
    {
     "name": "stdout",
     "output_type": "stream",
     "text": [
      "0\n",
      "2\n",
      "4\n",
      "6\n",
      "8\n"
     ]
    }
   ],
   "source": [
    "for n in range(0, 10, 2):\n",
    "    print(n)"
   ]
  },
  {
   "cell_type": "code",
   "execution_count": 8,
   "metadata": {},
   "outputs": [
    {
     "name": "stdout",
     "output_type": "stream",
     "text": [
      "10\n",
      "9\n",
      "8\n",
      "7\n",
      "6\n",
      "5\n",
      "4\n",
      "3\n",
      "2\n",
      "1\n"
     ]
    }
   ],
   "source": [
    "for n in range(10, 0, -1):\n",
    "    print(n)"
   ]
  },
  {
   "cell_type": "markdown",
   "metadata": {},
   "source": [
    "## Conditions"
   ]
  },
  {
   "cell_type": "markdown",
   "metadata": {},
   "source": [
    "One thing you'll often find yourself wanting to do is to test whether something is, or is not, the case, and then have your program do different actions depending on the result.  For example, suppose you wanted to know whether a number was even or odd? Here's how you'd find out."
   ]
  },
  {
   "cell_type": "code",
   "execution_count": 9,
   "metadata": {},
   "outputs": [],
   "source": [
    "def odd_or_even(number):\n",
    "    if number == 0:\n",
    "        return \"Zero isn't even or odd.\"\n",
    "    elif number % 2 == 0:\n",
    "        return \"Even!\"\n",
    "    else:\n",
    "        return \"Odd!\""
   ]
  },
  {
   "cell_type": "code",
   "execution_count": 10,
   "metadata": {},
   "outputs": [
    {
     "name": "stdout",
     "output_type": "stream",
     "text": [
      "Odd!\n"
     ]
    }
   ],
   "source": [
    "print(odd_or_even(5))"
   ]
  },
  {
   "cell_type": "code",
   "execution_count": 11,
   "metadata": {},
   "outputs": [
    {
     "name": "stdout",
     "output_type": "stream",
     "text": [
      "Even!\n"
     ]
    }
   ],
   "source": [
    "print(odd_or_even(100))"
   ]
  },
  {
   "cell_type": "code",
   "execution_count": 12,
   "metadata": {},
   "outputs": [
    {
     "name": "stdout",
     "output_type": "stream",
     "text": [
      "Zero isn't even or odd.\n"
     ]
    }
   ],
   "source": [
    "print(odd_or_even(0))"
   ]
  },
  {
   "cell_type": "code",
   "execution_count": 13,
   "metadata": {},
   "outputs": [
    {
     "name": "stdout",
     "output_type": "stream",
     "text": [
      "Odd!\n"
     ]
    }
   ],
   "source": [
    "print(odd_or_even(-5))"
   ]
  },
  {
   "cell_type": "markdown",
   "metadata": {},
   "source": [
    "So let's go over that.  We know what defining a function looks like already, that was the last lesson. So let's look at the body. \n",
    "\n",
    "The first line of the body can pretty much be read straight off: if the number is equal to 0, then do the thing in the indented block to follow; in this case, return a scolding about trying to pretend that 0 is even or odd. \n",
    "\n",
    "The second line in the body starts with a weird keyword, `elif` .  That's just a quirky Python shorthand for \"else if\".  It gives you a second alternative.  If that alternative is true, then run the code in the indented block to follow.  You can have as many `elif` statements as you want in a conditional.\n",
    "\n",
    "Incidentally, the `%` symbol is known as \"modulo.\"  It basically means the same as the remainder in division, so what this block is asking is whether the remainder of the number divided by 2 is equal to 0 or not; if it is, then that means it's divisible by 2, i.e., even.\n",
    "\n",
    "The final line is the last alternative, which starts with the keyword `else`. That is what happens if nothing in the `if` or `elif`s above is true.  \n",
    "\n",
    "Here are some things you should know about these conditionals: \n",
    "\n",
    "- The different conditions are checked in order, and they stop after a match is found.  What that means is that changing the order can change the behavior.\n"
   ]
  },
  {
   "cell_type": "code",
   "execution_count": 14,
   "metadata": {},
   "outputs": [
    {
     "name": "stdout",
     "output_type": "stream",
     "text": [
      "Even!\n"
     ]
    }
   ],
   "source": [
    "def broken_odd_or_even(number):\n",
    "    if number % 2 == 0:\n",
    "        return \"Even!\"\n",
    "    elif number == 0:\n",
    "        return \"Zero isn't even or odd.\"\n",
    "    else:\n",
    "        return \"Odd!\"\n",
    "\n",
    "print(broken_odd_or_even(0))"
   ]
  },
  {
   "cell_type": "markdown",
   "metadata": {},
   "source": [
    "We got the wrong answer because we checked the wrong thing first. $0/2 = 0$ with no remainder, so the first condition is true, which means that it never gets to test the second condition, the conditional just resolves. \n",
    "\n",
    "- The stuff after an `if` or an `elif` or an `else` is an expression that evaluates to a *boolean*. A boolean is just one of the special values `True` or `False`.  `10 % 2 == 0` evaluates to `True`, whereas `5 % 2 == 0` evaluates to `False`"
   ]
  },
  {
   "cell_type": "code",
   "execution_count": 15,
   "metadata": {},
   "outputs": [
    {
     "data": {
      "text/plain": [
       "True"
      ]
     },
     "execution_count": 15,
     "metadata": {},
     "output_type": "execute_result"
    }
   ],
   "source": [
    "10 % 2 == 0"
   ]
  },
  {
   "cell_type": "code",
   "execution_count": 16,
   "metadata": {},
   "outputs": [
    {
     "data": {
      "text/plain": [
       "False"
      ]
     },
     "execution_count": 16,
     "metadata": {},
     "output_type": "execute_result"
    }
   ],
   "source": [
    "1 + 1 == 3"
   ]
  },
  {
   "cell_type": "code",
   "execution_count": 17,
   "metadata": {},
   "outputs": [
    {
     "data": {
      "text/plain": [
       "False"
      ]
     },
     "execution_count": 17,
     "metadata": {},
     "output_type": "execute_result"
    }
   ],
   "source": [
    "5 > 10"
   ]
  },
  {
   "cell_type": "code",
   "execution_count": 18,
   "metadata": {},
   "outputs": [
    {
     "data": {
      "text/plain": [
       "True"
      ]
     },
     "execution_count": 18,
     "metadata": {},
     "output_type": "execute_result"
    }
   ],
   "source": [
    "10 > 5"
   ]
  },
  {
   "cell_type": "code",
   "execution_count": 19,
   "metadata": {},
   "outputs": [
    {
     "data": {
      "text/plain": [
       "False"
      ]
     },
     "execution_count": 19,
     "metadata": {},
     "output_type": "execute_result"
    }
   ],
   "source": [
    "10 > 10"
   ]
  },
  {
   "cell_type": "code",
   "execution_count": 20,
   "metadata": {},
   "outputs": [
    {
     "data": {
      "text/plain": [
       "True"
      ]
     },
     "execution_count": 20,
     "metadata": {},
     "output_type": "execute_result"
    }
   ],
   "source": [
    "10 >= 10"
   ]
  },
  {
   "cell_type": "markdown",
   "metadata": {},
   "source": [
    "You should be able to figure out the basic comparison operators for those examples. It's important to know that double equals `==` is used for comparision, while single equals `=` is used to assign something to a variable. It's a common mistake to mix them up (I still do it myself sometimes). \n",
    "\n",
    "- In Python you can use other things to stand in for booleans in conditionals. The rules are that most values act like `True` except for `None`, `0`, `False` itself (of course), strings with no characters in them, and empty compound data structures like lists and dictionaries (which we'll talk about later).  Things that can stand in for `True` are colloquially known as \"truthy\", while things that stand in for `False` are known as \"falsy"
   ]
  },
  {
   "cell_type": "code",
   "execution_count": 21,
   "metadata": {},
   "outputs": [
    {
     "name": "stdout",
     "output_type": "stream",
     "text": [
      "falsy\n"
     ]
    }
   ],
   "source": [
    "if 0:\n",
    "    print(\"truthy\")\n",
    "else:\n",
    "    print(\"falsy\")"
   ]
  },
  {
   "cell_type": "code",
   "execution_count": 22,
   "metadata": {},
   "outputs": [],
   "source": [
    "# I'm too lazy to keep typing that, so let's stick it in a function\n",
    "def truthy_or_falsy(value):\n",
    "    if value:\n",
    "        print(\"truthy\")\n",
    "    else:\n",
    "        print(\"falsy\")"
   ]
  },
  {
   "cell_type": "code",
   "execution_count": 23,
   "metadata": {},
   "outputs": [
    {
     "name": "stdout",
     "output_type": "stream",
     "text": [
      "truthy\n"
     ]
    }
   ],
   "source": [
    "truthy_or_falsy(\"1\")"
   ]
  },
  {
   "cell_type": "code",
   "execution_count": 24,
   "metadata": {},
   "outputs": [
    {
     "name": "stdout",
     "output_type": "stream",
     "text": [
      "falsy\n"
     ]
    }
   ],
   "source": [
    "truthy_or_falsy(None)"
   ]
  },
  {
   "cell_type": "code",
   "execution_count": 25,
   "metadata": {},
   "outputs": [
    {
     "name": "stdout",
     "output_type": "stream",
     "text": [
      "falsy\n"
     ]
    }
   ],
   "source": [
    "truthy_or_falsy(False)"
   ]
  },
  {
   "cell_type": "code",
   "execution_count": 26,
   "metadata": {},
   "outputs": [
    {
     "name": "stdout",
     "output_type": "stream",
     "text": [
      "truthy\n"
     ]
    }
   ],
   "source": [
    "truthy_or_falsy(True)"
   ]
  },
  {
   "cell_type": "code",
   "execution_count": 27,
   "metadata": {},
   "outputs": [
    {
     "name": "stdout",
     "output_type": "stream",
     "text": [
      "truthy\n"
     ]
    }
   ],
   "source": [
    "truthy_or_falsy(\"cat\")"
   ]
  },
  {
   "cell_type": "code",
   "execution_count": 28,
   "metadata": {},
   "outputs": [
    {
     "name": "stdout",
     "output_type": "stream",
     "text": [
      "falsy\n"
     ]
    }
   ],
   "source": [
    "truthy_or_falsy(\"\")"
   ]
  },
  {
   "cell_type": "code",
   "execution_count": 29,
   "metadata": {},
   "outputs": [
    {
     "name": "stdout",
     "output_type": "stream",
     "text": [
      "truthy\n"
     ]
    }
   ],
   "source": [
    "truthy_or_falsy([1, 2, 3])"
   ]
  },
  {
   "cell_type": "code",
   "execution_count": 30,
   "metadata": {},
   "outputs": [
    {
     "name": "stdout",
     "output_type": "stream",
     "text": [
      "falsy\n"
     ]
    }
   ],
   "source": [
    "truthy_or_falsy([])"
   ]
  },
  {
   "cell_type": "markdown",
   "metadata": {},
   "source": [
    "- You can omit the \"else\" statement in a conditional, what this just means is that if it doesn't meet a condition, it just won't do anything.  For example: "
   ]
  },
  {
   "cell_type": "code",
   "execution_count": 31,
   "metadata": {},
   "outputs": [],
   "source": [
    "if 0:\n",
    "    print(\"I'm not doing anything\")"
   ]
  },
  {
   "cell_type": "code",
   "execution_count": 32,
   "metadata": {},
   "outputs": [],
   "source": [
    "if 0:\n",
    "    print(\"please can I do something?\")\n",
    "elif None:\n",
    "    print(\"I really want to do something, but I can't!!\")"
   ]
  },
  {
   "cell_type": "markdown",
   "metadata": {},
   "source": [
    "Functions end their execution whenever they see a `return` statement (this is known as \"sort-circuiting\"), so if you have a conditional with returns in a function, then it never sees the rest of the function. \n",
    "\n",
    "A common idiom in Python is to take advantage of this last feature and just put the last alternative as a return statement outside of the conditional. For example, we could rewrite our `odd_or_even` function as follows: "
   ]
  },
  {
   "cell_type": "code",
   "execution_count": 33,
   "metadata": {},
   "outputs": [],
   "source": [
    "def odd_or_even(number):\n",
    "    if number == 0:\n",
    "        return \"Zero isn't even or odd.\"\n",
    "    elif number % 2 == 0:\n",
    "        return \"Even!\"\n",
    "    return \"Odd!\""
   ]
  },
  {
   "cell_type": "markdown",
   "metadata": {},
   "source": [
    "This function will work exactly the same.  \n",
    "\n",
    "- If it gets 0, it'll go down the first branch, return on the spot and never see the rest of the return statements. \n",
    "\n",
    "- If it doesn't get 0, but does get a number divisible by 2, it'll go down the second branch, and ditto.  \n",
    "\n",
    "- If it doesn't get 0 or a number divisible by 2, it won't go down either branch of the conditional. But there's another line in the function!  And since it didn't return in the conditional, it gets to that line, which tells it to return \"Odd!\""
   ]
  },
  {
   "cell_type": "markdown",
   "metadata": {},
   "source": [
    "### Now you try!\n",
    "\n",
    "I'd like you to try and write a function, `fizzbuzz()`, that takes a number, and returns: \n",
    "\n",
    "- \"Fizz\" if the number is divisible by 3 and not 5, \n",
    "\n",
    "- \"Buzz\" if the number is divisible by 5 and not 3, \n",
    "\n",
    "- \"FizzBuzz\" if the number is divisible by 5 and 3\", and \n",
    "\n",
    "- the number itself, if it isn't divisible by 5 or 3. \n",
    "\n",
    "Then I'd like you to print the result of that function for the numbers 1-100."
   ]
  }
 ],
 "metadata": {
  "kernelspec": {
   "display_name": "Python 3",
   "language": "python",
   "name": "python3"
  },
  "language_info": {
   "codemirror_mode": {
    "name": "ipython",
    "version": 3
   },
   "file_extension": ".py",
   "mimetype": "text/x-python",
   "name": "python",
   "nbconvert_exporter": "python",
   "pygments_lexer": "ipython3",
   "version": "3.5.4"
  }
 },
 "nbformat": 4,
 "nbformat_minor": 2
}
