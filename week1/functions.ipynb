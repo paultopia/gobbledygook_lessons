{
 "cells": [
  {
   "cell_type": "markdown",
   "metadata": {},
   "source": [
    "- Title: Functions and Scope\n",
    "- Date: 2018-12-20\n",
    "- Tags: python, programming"
   ]
  },
  {
   "cell_type": "markdown",
   "metadata": {},
   "source": [
    "Recall how in the first Python lesson we looked at the `while` loop and saw how it allows us to repeat instructions to the computer as many times as you want. \n",
    "\n",
    "The next step up from a loop is a function, which allows us to wrap up a series of commands into a single command on its own. Let's take a look at an example. "
   ]
  },
  {
   "cell_type": "code",
   "execution_count": 1,
   "metadata": {},
   "outputs": [],
   "source": [
    "def plus_one(number):\n",
    "    return number + 1"
   ]
  },
  {
   "cell_type": "markdown",
   "metadata": {},
   "source": [
    "That code gives us the basic form of a function. Let's break it down. \n",
    "\n",
    "- First is the `def` keyword, which just say that we're defining a function.  \n",
    "\n",
    "- following that is a space, and then the name of the function, in this case `plus_one`\n",
    "\n",
    "- immediately following that (no space) are names for the *parameters* that the function accepts, separated by commas and enclosed in parentheses. This function takes just one parameters, named `number`. \n",
    "\n",
    "- following that is a colon signifying the beginning of a new *scope* --- we'll talk about the concept of scope later, but just think of it as a new block like in a loop. \n",
    "\n",
    "- following that is the *body* of the function, indented as per usual. Each of the parameters to the function is available as a variable in the body.  This function just has one line in the body, and it adds 1 to whatever is assigned to `number`. \n",
    "\n",
    "- this function, and most functions, end with a `return` statement: a statement that starts with the keyword `return` and then includes an expression that evaluates to some value. This is the value that, as the name suggests, the function returns. In this case, returns means that the function evaluates to it when it's executed.\n",
    "\n",
    "Let's take a look at what happens when we execute it."
   ]
  },
  {
   "cell_type": "code",
   "execution_count": 2,
   "metadata": {},
   "outputs": [
    {
     "name": "stdout",
     "output_type": "stream",
     "text": [
      "2\n"
     ]
    }
   ],
   "source": [
    "two = plus_one(1)\n",
    "print(two)"
   ]
  },
  {
   "cell_type": "markdown",
   "metadata": {},
   "source": [
    "We *call* a function by entering its name followed by parentheses containing values for the function's parameters---we call these values *arguments*.  So here, we're calling the function `plus_one` with the value `1`. That value gets passed into the body of the function attached to the name in the appropriate place in the list of parameters, so it gets assigned `number` in the function.\n",
    "\n",
    "The function then executed, and evaluates to its return statement, if any. Here, of course, that just means that it evaluates to the number 2, which is assigned to the variable and printed as normal. \n",
    "\n",
    "Functions don't need to have any parameters: "
   ]
  },
  {
   "cell_type": "code",
   "execution_count": 3,
   "metadata": {},
   "outputs": [
    {
     "name": "stdout",
     "output_type": "stream",
     "text": [
      "MEOW\n"
     ]
    }
   ],
   "source": [
    "def cat_noise():\n",
    "    return \"MEOW\"\n",
    "\n",
    "print(cat_noise())"
   ]
  },
  {
   "cell_type": "markdown",
   "metadata": {},
   "source": [
    "They also don't need to have a return statement. If they don't have a return statement, they return the special value `None`.  \n",
    "\n",
    "Why would you want to have a function with no return statement? Well, some functions can do things that don't require returning. For example, they might modify other values in memory (though that gets a little complicated and we'll talk about it later) or they might print something, make an internet request, delete a file, etc. "
   ]
  },
  {
   "cell_type": "code",
   "execution_count": 4,
   "metadata": {},
   "outputs": [],
   "source": [
    "def say_cat_noise():\n",
    "    print(\"MEOW\")"
   ]
  },
  {
   "cell_type": "code",
   "execution_count": 5,
   "metadata": {},
   "outputs": [
    {
     "name": "stdout",
     "output_type": "stream",
     "text": [
      "MEOW\n"
     ]
    }
   ],
   "source": [
    "my_variable = say_cat_noise()"
   ]
  },
  {
   "cell_type": "code",
   "execution_count": 6,
   "metadata": {},
   "outputs": [
    {
     "name": "stdout",
     "output_type": "stream",
     "text": [
      "None\n"
     ]
    }
   ],
   "source": [
    "print(my_variable)"
   ]
  },
  {
   "cell_type": "markdown",
   "metadata": {},
   "source": [
    "Of course, functions can have multiple parameters."
   ]
  },
  {
   "cell_type": "code",
   "execution_count": 7,
   "metadata": {},
   "outputs": [
    {
     "name": "stdout",
     "output_type": "stream",
     "text": [
      "Hello Leonidas, the best cat!!!!\n"
     ]
    }
   ],
   "source": [
    "def greet(name, punctuation):\n",
    "    greeting = \"Hello \" + name + punctuation\n",
    "    return greeting\n",
    "\n",
    "print(greet(\"Leonidas, the best cat\", \"!!!!\"))"
   ]
  },
  {
   "cell_type": "code",
   "execution_count": 8,
   "metadata": {},
   "outputs": [
    {
     "name": "stdout",
     "output_type": "stream",
     "text": [
      "Hello Rex.\n"
     ]
    }
   ],
   "source": [
    "print(greet(\"Rex\", \".\"))"
   ]
  },
  {
   "cell_type": "markdown",
   "metadata": {},
   "source": [
    "Normally you pass arguments by position, i.e., the first argument is the first parameter in the function, and so forth, and so forth.  But you can also pass arguments by name, by putting the names in the call to the function and then an equals sign. If you do so, you don't have to do it in order."
   ]
  },
  {
   "cell_type": "code",
   "execution_count": 9,
   "metadata": {},
   "outputs": [
    {
     "name": "stdout",
     "output_type": "stream",
     "text": [
      "Hello students?\n"
     ]
    }
   ],
   "source": [
    "print(greet(punctuation=\"?\", name=\"students\"))"
   ]
  },
  {
   "cell_type": "markdown",
   "metadata": {},
   "source": [
    "Normally, you get an error if you pass fewer arguments to a function than its number of parameters."
   ]
  },
  {
   "cell_type": "code",
   "execution_count": 10,
   "metadata": {},
   "outputs": [
    {
     "ename": "TypeError",
     "evalue": "greet() missing 1 required positional argument: 'punctuation'",
     "output_type": "error",
     "traceback": [
      "\u001b[0;31m---------------------------------------------------------------------------\u001b[0m",
      "\u001b[0;31mTypeError\u001b[0m                                 Traceback (most recent call last)",
      "\u001b[0;32m<ipython-input-10-2b2b4e8a714b>\u001b[0m in \u001b[0;36m<module>\u001b[0;34m\u001b[0m\n\u001b[0;32m----> 1\u001b[0;31m \u001b[0mgreet\u001b[0m\u001b[0;34m(\u001b[0m\u001b[0;34m\"nobody\"\u001b[0m\u001b[0;34m)\u001b[0m\u001b[0;34m\u001b[0m\u001b[0;34m\u001b[0m\u001b[0m\n\u001b[0m",
      "\u001b[0;31mTypeError\u001b[0m: greet() missing 1 required positional argument: 'punctuation'"
     ]
    }
   ],
   "source": [
    "greet(\"nobody\")"
   ]
  },
  {
   "cell_type": "markdown",
   "metadata": {},
   "source": [
    "However, you can define a function with *default arguments* for some parameters, which get applied if you don't give an argument for that spot."
   ]
  },
  {
   "cell_type": "code",
   "execution_count": 11,
   "metadata": {},
   "outputs": [],
   "source": [
    "def greet2(name, punctuation=\"!\"):\n",
    "    return \"Hello \" + name + punctuation"
   ]
  },
  {
   "cell_type": "code",
   "execution_count": 12,
   "metadata": {},
   "outputs": [
    {
     "name": "stdout",
     "output_type": "stream",
     "text": [
      "Hello Dean Washburn!\n"
     ]
    }
   ],
   "source": [
    "print(greet2(\"Dean Washburn\"))"
   ]
  },
  {
   "cell_type": "code",
   "execution_count": 13,
   "metadata": {},
   "outputs": [
    {
     "name": "stdout",
     "output_type": "stream",
     "text": [
      "Hello President Harreld?!!?\n"
     ]
    }
   ],
   "source": [
    "print(greet2(\"President Harreld\", \"?!!?\"))"
   ]
  },
  {
   "cell_type": "markdown",
   "metadata": {},
   "source": [
    "## Scope\n",
    "\n",
    "Learning about functions also requires understanding the really important concept of *scope*. Every variable exists in a scope, and isn't defined, or has a different definition, outside of that scope. \n",
    "\n",
    "Functions create their own scope.  What that means is that a variable defined in a function, or passed into it as one of its arguments, doesn't exist outside that scope. Here's an example: "
   ]
  },
  {
   "cell_type": "code",
   "execution_count": 14,
   "metadata": {},
   "outputs": [],
   "source": [
    "x = 5 \n",
    "y = 100\n",
    "\n",
    "def plus_10(x):\n",
    "    y = 50\n",
    "    print(\"inside the function, y = \" + str(y))\n",
    "    return x + 10"
   ]
  },
  {
   "cell_type": "code",
   "execution_count": 15,
   "metadata": {},
   "outputs": [
    {
     "name": "stdout",
     "output_type": "stream",
     "text": [
      "5\n"
     ]
    }
   ],
   "source": [
    "print(x)"
   ]
  },
  {
   "cell_type": "code",
   "execution_count": 16,
   "metadata": {},
   "outputs": [
    {
     "name": "stdout",
     "output_type": "stream",
     "text": [
      "inside the function, y = 50\n",
      "30\n"
     ]
    }
   ],
   "source": [
    "print(plus_10(20))"
   ]
  },
  {
   "cell_type": "code",
   "execution_count": 17,
   "metadata": {},
   "outputs": [
    {
     "name": "stdout",
     "output_type": "stream",
     "text": [
      "5\n"
     ]
    }
   ],
   "source": [
    "print(x)"
   ]
  },
  {
   "cell_type": "code",
   "execution_count": 18,
   "metadata": {},
   "outputs": [
    {
     "name": "stdout",
     "output_type": "stream",
     "text": [
      "100\n"
     ]
    }
   ],
   "source": [
    "print(y)"
   ]
  },
  {
   "cell_type": "markdown",
   "metadata": {},
   "source": [
    "What we can see here is that even though we assigned `x` and `y` to name in the scope of the `plus_10` function, that didn't touch the values of those variables assigned outside the function.  We got to use those values inside the function without clashing with the external names.  This is how scope works. \n",
    "\n",
    "If a function can't find a variable in its own scope, it looks outside in its *enclosing scope* for it.  Here's another example: "
   ]
  },
  {
   "cell_type": "code",
   "execution_count": 19,
   "metadata": {},
   "outputs": [],
   "source": [
    "def plus_100(x):\n",
    "    return x + y"
   ]
  },
  {
   "cell_type": "code",
   "execution_count": 20,
   "metadata": {},
   "outputs": [
    {
     "name": "stdout",
     "output_type": "stream",
     "text": [
      "150\n"
     ]
    }
   ],
   "source": [
    "print(plus_100(50))"
   ]
  },
  {
   "cell_type": "markdown",
   "metadata": {},
   "source": [
    "`y` wasn't defined in the body or the arguments of `plus_100`, so it went out into the *global scope* to find a value for it. Since we'd assigned `y` to `100` earlier, it was findable by the function. \n",
    "\n",
    "Let's reassign it now."
   ]
  },
  {
   "cell_type": "code",
   "execution_count": 21,
   "metadata": {},
   "outputs": [],
   "source": [
    "y = 99"
   ]
  },
  {
   "cell_type": "code",
   "execution_count": 22,
   "metadata": {},
   "outputs": [
    {
     "data": {
      "text/plain": [
       "149"
      ]
     },
     "execution_count": 22,
     "metadata": {},
     "output_type": "execute_result"
    }
   ],
   "source": [
    "plus_100(50)"
   ]
  },
  {
   "cell_type": "markdown",
   "metadata": {},
   "source": [
    "When we called `plus_100` again, it had to go looking for `y` in the global scope again, and it found a different value!  So it used that.  \n",
    "\n",
    "This is also a good practical programming clue for you. It's a bad idea to rely too much on variables in global scope (called *global variables*), because if you accidentally change their names, it can lead to surprising bugs, like a function that you meant to add 100 to things actually adding 99 to them. "
   ]
  },
  {
   "cell_type": "markdown",
   "metadata": {},
   "source": [
    "So what if you actually want to change a global variable inside a function?  Well, you could use the `global` declaration in the body of the function, before you refer to that variable, in order to do that.  But that's a bad idea, don't do it. "
   ]
  },
  {
   "cell_type": "code",
   "execution_count": 23,
   "metadata": {},
   "outputs": [],
   "source": [
    "# if you find outself tempted to try something like this, \n",
    "# you usually should rethink your code.\n",
    "def insist_on_plus_100(x):\n",
    "    global y\n",
    "    y = 100\n",
    "    return x + y"
   ]
  },
  {
   "cell_type": "code",
   "execution_count": 24,
   "metadata": {},
   "outputs": [
    {
     "name": "stdout",
     "output_type": "stream",
     "text": [
      "99\n",
      "150\n",
      "100\n"
     ]
    }
   ],
   "source": [
    "y = 99\n",
    "print(y)\n",
    "print(insist_on_plus_100(50))\n",
    "print(y)"
   ]
  },
  {
   "cell_type": "markdown",
   "metadata": {},
   "source": [
    "You can have nested scope---scope within scope within scope.  The outermost scope is the global scope, and a reference to a variable will look within the its own scope, and then within the next outer scope, and the next, and so forth, until it gets to the global scope. "
   ]
  },
  {
   "cell_type": "code",
   "execution_count": 25,
   "metadata": {},
   "outputs": [],
   "source": [
    "x = \"global scope\"\n",
    "\n",
    "def inner():\n",
    "    x = \"innermost scope\"\n",
    "    print(x)\n",
    "\n",
    "def middle():\n",
    "    x = \"middle scope\"\n",
    "    inner()\n",
    "    print(x)\n",
    "    \n",
    "def outer():\n",
    "    middle()\n",
    "    print(x)"
   ]
  },
  {
   "cell_type": "markdown",
   "metadata": {},
   "source": [
    "Can you guess what calling `outer()` will do?  Take a minute to figure it out, and then run this code yourself and see if you're right."
   ]
  }
 ],
 "metadata": {
  "kernelspec": {
   "display_name": "Python 3",
   "language": "python",
   "name": "python3"
  },
  "language_info": {
   "codemirror_mode": {
    "name": "ipython",
    "version": 3
   },
   "file_extension": ".py",
   "mimetype": "text/x-python",
   "name": "python",
   "nbconvert_exporter": "python",
   "pygments_lexer": "ipython3",
   "version": "3.5.4"
  }
 },
 "nbformat": 4,
 "nbformat_minor": 2
}
