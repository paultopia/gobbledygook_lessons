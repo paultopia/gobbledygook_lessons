{
 "cells": [
  {
   "cell_type": "markdown",
   "metadata": {},
   "source": [
    "- Title: Key Python Libraries for Working with Data\n",
    "- Date: 2018-12-22\n",
    "- Tags: python, programming, statistics, week5"
   ]
  },
  {
   "cell_type": "markdown",
   "metadata": {},
   "source": [
    "In this lesson I'm just going to describe the main libraries that we'll see when we work with data in Python.  \n",
    "\n",
    "## Numpy\n",
    "\n",
    "Numpy is the first library we work with.  By convention, it's imported with `import numpy as np`.  Numpy really provides two things to our workflow: \n",
    "\n",
    "1.  Math that goes faster than unadorned Python could do it---which is important when you're doing statistics, because under the hood computational stats can take a lot of calculations.\n",
    "\n",
    "2.  Convenient data structures as well as functions that operate on them. \n",
    "\n",
    "Let's talk about number 2 for a minute.  Numpy provides special numeric types which you don't need to worry about, but also the array, which is like a Python list, but with special properties that make it more useful for mathematical operations.  The other main Python data libraries tend to assume that you're working with arrays, or something that can be converted with arrays---but lists can be pretty seamlessly converted to arrays, so that's ok. \n",
    "\n",
    "The other great part of number 2 is that numpy lets you do math on entire arrays as well as individual numbers.  For example: "
   ]
  },
  {
   "cell_type": "code",
   "execution_count": 1,
   "metadata": {},
   "outputs": [
    {
     "name": "stdout",
     "output_type": "stream",
     "text": [
      "[ 2  4  6  8 10]\n"
     ]
    }
   ],
   "source": [
    "import numpy as np\n",
    "mynums = np.array([1, 2, 3, 4, 5])\n",
    "print(mynums * 2)"
   ]
  },
  {
   "cell_type": "markdown",
   "metadata": {},
   "source": [
    "See what I did there?  I just multipled the entire array by 2 in one go.  You couldn't do that with ordinary Python lists."
   ]
  },
  {
   "cell_type": "code",
   "execution_count": 2,
   "metadata": {},
   "outputs": [
    {
     "name": "stdout",
     "output_type": "stream",
     "text": [
      "[1, 2, 3, 4, 5, 1, 2, 3, 4, 5]\n"
     ]
    }
   ],
   "source": [
    "print([1, 2, 3, 4, 5] * 2)"
   ]
  },
  {
   "cell_type": "markdown",
   "metadata": {},
   "source": [
    "Numpy also provides a lot of convenience functions, for example, for calculating mean and standard deviation. We won't go through them here, but just will introduce them as they come up in other lessons.  If you're curious about the menu of options provided, however, check out the documentation: \n",
    "\n",
    "- [mathematical functions](https://docs.scipy.org/doc/numpy/reference/routines.math.html)\n",
    "\n",
    "- [random sampling](https://docs.scipy.org/doc/numpy/reference/routines.random.html)\n",
    "\n",
    "- [statistical functionality](https://docs.scipy.org/doc/numpy/reference/routines.statistics.html)\n",
    "\n",
    "Numpy is a *huge* package with tons more stuff, and also really complicated features to handle things like multidimensional data.  But you won't need to worry about that stuff. "
   ]
  },
  {
   "cell_type": "markdown",
   "metadata": {},
   "source": [
    "## Pandas\n",
    "\n",
    "Pandas is a library that helps us work with structured data (like Excel-spreadsheet-type data), which is what we'll be focusing on for the statistics work in this course. By convention, we `import pandas as pd`. \n",
    "\n",
    "Pandas is the library you'll use to read in data from things like CSV and Excel spreadsheets. (Note: it's usually better to just export an Excel spreadsheet, or google docs, or whatever else, to CSV format and then ingest it in Python from there.  Excel can be a bit of a monster to deal with.)\n",
    "\n",
    "The Pandas data format is called a `DataFrame`.  You can think of it as Python's version of a spreadsheet.  Let's look at one.  I'll just pull down a CSV of data from my own book to play with."
   ]
  },
  {
   "cell_type": "code",
   "execution_count": 3,
   "metadata": {},
   "outputs": [],
   "source": [
    "import pandas as pd\n",
    "df = pd.read_csv(\"http://rulelaw.net/downloads/rol-scores.csv\")"
   ]
  },
  {
   "cell_type": "markdown",
   "metadata": {},
   "source": [
    "We can look at the first few rows of data with the `head()` method on a dataframe"
   ]
  },
  {
   "cell_type": "code",
   "execution_count": 4,
   "metadata": {},
   "outputs": [
    {
     "data": {
      "text/html": [
       "<div>\n",
       "<style>\n",
       "    .dataframe thead tr:only-child th {\n",
       "        text-align: right;\n",
       "    }\n",
       "\n",
       "    .dataframe thead th {\n",
       "        text-align: left;\n",
       "    }\n",
       "\n",
       "    .dataframe tbody tr th {\n",
       "        vertical-align: top;\n",
       "    }\n",
       "</style>\n",
       "<table border=\"1\" class=\"dataframe\">\n",
       "  <thead>\n",
       "    <tr style=\"text-align: right;\">\n",
       "      <th></th>\n",
       "      <th>State</th>\n",
       "      <th>Pop. In Millions for 2012</th>\n",
       "      <th>RoLScore</th>\n",
       "      <th>elec_pros</th>\n",
       "      <th>pol_plur</th>\n",
       "      <th>free_expr</th>\n",
       "      <th>assoc_org</th>\n",
       "      <th>per_auto</th>\n",
       "      <th>2012GDP</th>\n",
       "      <th>hprop</th>\n",
       "      <th>hfisc</th>\n",
       "      <th>hbiz</th>\n",
       "      <th>hlab</th>\n",
       "      <th>htra</th>\n",
       "      <th>hinv</th>\n",
       "    </tr>\n",
       "  </thead>\n",
       "  <tbody>\n",
       "    <tr>\n",
       "      <th>0</th>\n",
       "      <td>Albania</td>\n",
       "      <td>3.2</td>\n",
       "      <td>42.60</td>\n",
       "      <td>8</td>\n",
       "      <td>10</td>\n",
       "      <td>13</td>\n",
       "      <td>8</td>\n",
       "      <td>9</td>\n",
       "      <td>1.264810e+10</td>\n",
       "      <td>30</td>\n",
       "      <td>92.6</td>\n",
       "      <td>81.0</td>\n",
       "      <td>49.0</td>\n",
       "      <td>79.8</td>\n",
       "      <td>65</td>\n",
       "    </tr>\n",
       "    <tr>\n",
       "      <th>1</th>\n",
       "      <td>Argentina</td>\n",
       "      <td>41.1</td>\n",
       "      <td>51.94</td>\n",
       "      <td>11</td>\n",
       "      <td>15</td>\n",
       "      <td>14</td>\n",
       "      <td>11</td>\n",
       "      <td>13</td>\n",
       "      <td>4.755020e+11</td>\n",
       "      <td>15</td>\n",
       "      <td>64.3</td>\n",
       "      <td>60.1</td>\n",
       "      <td>47.4</td>\n",
       "      <td>67.6</td>\n",
       "      <td>40</td>\n",
       "    </tr>\n",
       "    <tr>\n",
       "      <th>2</th>\n",
       "      <td>Australia</td>\n",
       "      <td>22.7</td>\n",
       "      <td>73.28</td>\n",
       "      <td>12</td>\n",
       "      <td>15</td>\n",
       "      <td>16</td>\n",
       "      <td>12</td>\n",
       "      <td>15</td>\n",
       "      <td>1.532410e+12</td>\n",
       "      <td>90</td>\n",
       "      <td>66.4</td>\n",
       "      <td>95.5</td>\n",
       "      <td>83.5</td>\n",
       "      <td>86.2</td>\n",
       "      <td>80</td>\n",
       "    </tr>\n",
       "    <tr>\n",
       "      <th>3</th>\n",
       "      <td>Austria</td>\n",
       "      <td>8.4</td>\n",
       "      <td>73.15</td>\n",
       "      <td>12</td>\n",
       "      <td>15</td>\n",
       "      <td>16</td>\n",
       "      <td>12</td>\n",
       "      <td>15</td>\n",
       "      <td>3.947080e+11</td>\n",
       "      <td>90</td>\n",
       "      <td>51.1</td>\n",
       "      <td>73.6</td>\n",
       "      <td>80.4</td>\n",
       "      <td>86.8</td>\n",
       "      <td>85</td>\n",
       "    </tr>\n",
       "    <tr>\n",
       "      <th>4</th>\n",
       "      <td>Bangladesh</td>\n",
       "      <td>154.7</td>\n",
       "      <td>31.57</td>\n",
       "      <td>9</td>\n",
       "      <td>11</td>\n",
       "      <td>9</td>\n",
       "      <td>8</td>\n",
       "      <td>9</td>\n",
       "      <td>1.163550e+11</td>\n",
       "      <td>20</td>\n",
       "      <td>72.7</td>\n",
       "      <td>68.0</td>\n",
       "      <td>51.9</td>\n",
       "      <td>54.0</td>\n",
       "      <td>55</td>\n",
       "    </tr>\n",
       "  </tbody>\n",
       "</table>\n",
       "</div>"
      ],
      "text/plain": [
       "         State  Pop. In Millions for 2012  RoLScore  elec_pros   pol_plur  \\\n",
       "0     Albania                         3.2     42.60           8        10   \n",
       "1    Argentina                       41.1     51.94          11        15   \n",
       "2   Australia                        22.7     73.28          12        15   \n",
       "3      Austria                        8.4     73.15          12        15   \n",
       "4  Bangladesh                       154.7     31.57           9        11   \n",
       "\n",
       "   free_expr  assoc_org  per_auto       2012GDP  hprop  hfisc  hbiz  hlab  \\\n",
       "0         13          8         9  1.264810e+10     30   92.6  81.0  49.0   \n",
       "1         14         11        13  4.755020e+11     15   64.3  60.1  47.4   \n",
       "2         16         12        15  1.532410e+12     90   66.4  95.5  83.5   \n",
       "3         16         12        15  3.947080e+11     90   51.1  73.6  80.4   \n",
       "4          9          8         9  1.163550e+11     20   72.7  68.0  51.9   \n",
       "\n",
       "   htra  hinv  \n",
       "0  79.8    65  \n",
       "1  67.6    40  \n",
       "2  86.2    80  \n",
       "3  86.8    85  \n",
       "4  54.0    55  "
      ]
     },
     "execution_count": 4,
     "metadata": {},
     "output_type": "execute_result"
    }
   ],
   "source": [
    "df.head()"
   ]
  },
  {
   "cell_type": "markdown",
   "metadata": {},
   "source": [
    "Incidentally, I apologize for the fact that the headings of this table might not be properly aligned with the data below them on the website.  I'm working on this problem. But you can look in the lessons github repo, and it'll be better formatted. \n",
    "\n",
    "You can treat a Pandas DataFrame kind of like a dictionary where the keys are the columns.  For example:"
   ]
  },
  {
   "cell_type": "code",
   "execution_count": 5,
   "metadata": {},
   "outputs": [
    {
     "data": {
      "text/plain": [
       "0                   Albania \n",
       "1                  Argentina\n",
       "2                 Australia \n",
       "3                    Austria\n",
       "4                Bangladesh \n",
       "5                    Belgium\n",
       "6                   Bolivia \n",
       "7     Bosnia and Herzegovina\n",
       "8                   Botswana\n",
       "9                     Brazil\n",
       "10                 Bulgaria \n",
       "11              Burkina Faso\n",
       "12                  Cambodia\n",
       "13                  Cameroon\n",
       "14                    Canada\n",
       "15                     Chile\n",
       "16                     China\n",
       "17                 Colombia \n",
       "18             Cote d'Ivoire\n",
       "19                  Croatia \n",
       "20            Czech Republic\n",
       "21                   Denmark\n",
       "22        Dominican Republic\n",
       "23                   Ecuador\n",
       "24                     Egypt\n",
       "25              El Salvador \n",
       "26                   Estonia\n",
       "27                  Ethiopia\n",
       "28                   Finland\n",
       "29                    France\n",
       "               ...          \n",
       "61                  Pakistan\n",
       "62                    Panama\n",
       "63                      Peru\n",
       "64               Philippines\n",
       "65                    Poland\n",
       "66                  Portugal\n",
       "67                   Romania\n",
       "68                    Russia\n",
       "69                   Senegal\n",
       "70                    Serbia\n",
       "71              Sierra Leone\n",
       "72                 Singapore\n",
       "73                  Slovenia\n",
       "74              South Africa\n",
       "75               South Korea\n",
       "76                     Spain\n",
       "77                 Sri Lanka\n",
       "78                    Sweden\n",
       "79                  Tanzania\n",
       "80                   Tunisia\n",
       "81                   Turkey \n",
       "82                    Uganda\n",
       "83                   Ukraine\n",
       "84            United Kingdom\n",
       "85             United States\n",
       "86                   Uruguay\n",
       "87                Uzbekistan\n",
       "88                 Venezuela\n",
       "89                    Zambia\n",
       "90                  Zimbabwe\n",
       "Name: State, Length: 91, dtype: object"
      ]
     },
     "execution_count": 5,
     "metadata": {},
     "output_type": "execute_result"
    }
   ],
   "source": [
    "df[\"State\"]"
   ]
  },
  {
   "cell_type": "markdown",
   "metadata": {},
   "source": [
    "You can also create new columns by assigning things to them, often by applying mathematical transofmrations to other columns.  For example, we could create a column in our current dataframe that does a bunch of silly math to another.\n",
    "\n",
    "(Under the hood, Pandas columns use Numpy arrays with some extra juice on them, so we can do the same stuff we did before like multiplying a whole column with something in one fell swoop.)"
   ]
  },
  {
   "cell_type": "code",
   "execution_count": 6,
   "metadata": {},
   "outputs": [],
   "source": [
    "df[\"stupid math\"] = (df[\"RoLScore\"] / 2) + df[\"per_auto\"]"
   ]
  },
  {
   "cell_type": "code",
   "execution_count": 7,
   "metadata": {},
   "outputs": [
    {
     "data": {
      "text/html": [
       "<div>\n",
       "<style>\n",
       "    .dataframe thead tr:only-child th {\n",
       "        text-align: right;\n",
       "    }\n",
       "\n",
       "    .dataframe thead th {\n",
       "        text-align: left;\n",
       "    }\n",
       "\n",
       "    .dataframe tbody tr th {\n",
       "        vertical-align: top;\n",
       "    }\n",
       "</style>\n",
       "<table border=\"1\" class=\"dataframe\">\n",
       "  <thead>\n",
       "    <tr style=\"text-align: right;\">\n",
       "      <th></th>\n",
       "      <th>State</th>\n",
       "      <th>Pop. In Millions for 2012</th>\n",
       "      <th>RoLScore</th>\n",
       "      <th>elec_pros</th>\n",
       "      <th>pol_plur</th>\n",
       "      <th>free_expr</th>\n",
       "      <th>assoc_org</th>\n",
       "      <th>per_auto</th>\n",
       "      <th>2012GDP</th>\n",
       "      <th>hprop</th>\n",
       "      <th>hfisc</th>\n",
       "      <th>hbiz</th>\n",
       "      <th>hlab</th>\n",
       "      <th>htra</th>\n",
       "      <th>hinv</th>\n",
       "      <th>stupid math</th>\n",
       "    </tr>\n",
       "  </thead>\n",
       "  <tbody>\n",
       "    <tr>\n",
       "      <th>0</th>\n",
       "      <td>Albania</td>\n",
       "      <td>3.2</td>\n",
       "      <td>42.60</td>\n",
       "      <td>8</td>\n",
       "      <td>10</td>\n",
       "      <td>13</td>\n",
       "      <td>8</td>\n",
       "      <td>9</td>\n",
       "      <td>1.264810e+10</td>\n",
       "      <td>30</td>\n",
       "      <td>92.6</td>\n",
       "      <td>81.0</td>\n",
       "      <td>49.0</td>\n",
       "      <td>79.8</td>\n",
       "      <td>65</td>\n",
       "      <td>30.300</td>\n",
       "    </tr>\n",
       "    <tr>\n",
       "      <th>1</th>\n",
       "      <td>Argentina</td>\n",
       "      <td>41.1</td>\n",
       "      <td>51.94</td>\n",
       "      <td>11</td>\n",
       "      <td>15</td>\n",
       "      <td>14</td>\n",
       "      <td>11</td>\n",
       "      <td>13</td>\n",
       "      <td>4.755020e+11</td>\n",
       "      <td>15</td>\n",
       "      <td>64.3</td>\n",
       "      <td>60.1</td>\n",
       "      <td>47.4</td>\n",
       "      <td>67.6</td>\n",
       "      <td>40</td>\n",
       "      <td>38.970</td>\n",
       "    </tr>\n",
       "    <tr>\n",
       "      <th>2</th>\n",
       "      <td>Australia</td>\n",
       "      <td>22.7</td>\n",
       "      <td>73.28</td>\n",
       "      <td>12</td>\n",
       "      <td>15</td>\n",
       "      <td>16</td>\n",
       "      <td>12</td>\n",
       "      <td>15</td>\n",
       "      <td>1.532410e+12</td>\n",
       "      <td>90</td>\n",
       "      <td>66.4</td>\n",
       "      <td>95.5</td>\n",
       "      <td>83.5</td>\n",
       "      <td>86.2</td>\n",
       "      <td>80</td>\n",
       "      <td>51.640</td>\n",
       "    </tr>\n",
       "    <tr>\n",
       "      <th>3</th>\n",
       "      <td>Austria</td>\n",
       "      <td>8.4</td>\n",
       "      <td>73.15</td>\n",
       "      <td>12</td>\n",
       "      <td>15</td>\n",
       "      <td>16</td>\n",
       "      <td>12</td>\n",
       "      <td>15</td>\n",
       "      <td>3.947080e+11</td>\n",
       "      <td>90</td>\n",
       "      <td>51.1</td>\n",
       "      <td>73.6</td>\n",
       "      <td>80.4</td>\n",
       "      <td>86.8</td>\n",
       "      <td>85</td>\n",
       "      <td>51.575</td>\n",
       "    </tr>\n",
       "    <tr>\n",
       "      <th>4</th>\n",
       "      <td>Bangladesh</td>\n",
       "      <td>154.7</td>\n",
       "      <td>31.57</td>\n",
       "      <td>9</td>\n",
       "      <td>11</td>\n",
       "      <td>9</td>\n",
       "      <td>8</td>\n",
       "      <td>9</td>\n",
       "      <td>1.163550e+11</td>\n",
       "      <td>20</td>\n",
       "      <td>72.7</td>\n",
       "      <td>68.0</td>\n",
       "      <td>51.9</td>\n",
       "      <td>54.0</td>\n",
       "      <td>55</td>\n",
       "      <td>24.785</td>\n",
       "    </tr>\n",
       "  </tbody>\n",
       "</table>\n",
       "</div>"
      ],
      "text/plain": [
       "         State  Pop. In Millions for 2012  RoLScore  elec_pros   pol_plur  \\\n",
       "0     Albania                         3.2     42.60           8        10   \n",
       "1    Argentina                       41.1     51.94          11        15   \n",
       "2   Australia                        22.7     73.28          12        15   \n",
       "3      Austria                        8.4     73.15          12        15   \n",
       "4  Bangladesh                       154.7     31.57           9        11   \n",
       "\n",
       "   free_expr  assoc_org  per_auto       2012GDP  hprop  hfisc  hbiz  hlab  \\\n",
       "0         13          8         9  1.264810e+10     30   92.6  81.0  49.0   \n",
       "1         14         11        13  4.755020e+11     15   64.3  60.1  47.4   \n",
       "2         16         12        15  1.532410e+12     90   66.4  95.5  83.5   \n",
       "3         16         12        15  3.947080e+11     90   51.1  73.6  80.4   \n",
       "4          9          8         9  1.163550e+11     20   72.7  68.0  51.9   \n",
       "\n",
       "   htra  hinv  stupid math  \n",
       "0  79.8    65       30.300  \n",
       "1  67.6    40       38.970  \n",
       "2  86.2    80       51.640  \n",
       "3  86.8    85       51.575  \n",
       "4  54.0    55       24.785  "
      ]
     },
     "execution_count": 7,
     "metadata": {},
     "output_type": "execute_result"
    }
   ],
   "source": [
    "df.head()"
   ]
  },
  {
   "cell_type": "markdown",
   "metadata": {},
   "source": [
    "We can also access subtables of a DataFrame by passing a list of columns."
   ]
  },
  {
   "cell_type": "code",
   "execution_count": 8,
   "metadata": {},
   "outputs": [
    {
     "data": {
      "text/html": [
       "<div>\n",
       "<style>\n",
       "    .dataframe thead tr:only-child th {\n",
       "        text-align: right;\n",
       "    }\n",
       "\n",
       "    .dataframe thead th {\n",
       "        text-align: left;\n",
       "    }\n",
       "\n",
       "    .dataframe tbody tr th {\n",
       "        vertical-align: top;\n",
       "    }\n",
       "</style>\n",
       "<table border=\"1\" class=\"dataframe\">\n",
       "  <thead>\n",
       "    <tr style=\"text-align: right;\">\n",
       "      <th></th>\n",
       "      <th>State</th>\n",
       "      <th>RoLScore</th>\n",
       "    </tr>\n",
       "  </thead>\n",
       "  <tbody>\n",
       "    <tr>\n",
       "      <th>0</th>\n",
       "      <td>Albania</td>\n",
       "      <td>42.60</td>\n",
       "    </tr>\n",
       "    <tr>\n",
       "      <th>1</th>\n",
       "      <td>Argentina</td>\n",
       "      <td>51.94</td>\n",
       "    </tr>\n",
       "    <tr>\n",
       "      <th>2</th>\n",
       "      <td>Australia</td>\n",
       "      <td>73.28</td>\n",
       "    </tr>\n",
       "    <tr>\n",
       "      <th>3</th>\n",
       "      <td>Austria</td>\n",
       "      <td>73.15</td>\n",
       "    </tr>\n",
       "    <tr>\n",
       "      <th>4</th>\n",
       "      <td>Bangladesh</td>\n",
       "      <td>31.57</td>\n",
       "    </tr>\n",
       "  </tbody>\n",
       "</table>\n",
       "</div>"
      ],
      "text/plain": [
       "         State  RoLScore\n",
       "0     Albania      42.60\n",
       "1    Argentina     51.94\n",
       "2   Australia      73.28\n",
       "3      Austria     73.15\n",
       "4  Bangladesh      31.57"
      ]
     },
     "execution_count": 8,
     "metadata": {},
     "output_type": "execute_result"
    }
   ],
   "source": [
    "df[[\"State\", \"RoLScore\"]].head()"
   ]
  },
  {
   "cell_type": "markdown",
   "metadata": {},
   "source": [
    "There's lots more to do with Pandas as well.  I've assigned an introduction from DataCamp for this week in [chapter 2 of this lesson](https://www.datacamp.com/courses/intermediate-python-for-data-science). "
   ]
  },
  {
   "cell_type": "markdown",
   "metadata": {},
   "source": [
    "## Matplotlib/Seaborn\n",
    "\n",
    "Matplotlib is the Python library that handles data visualization.  For the most part, however, we won't be working with matplotlib directly. It has a really bad API. Like, terrible.  \n",
    "\n",
    "Instead, we'll be using seaborn.  Again, the convention among Python data people is to import it using a short name: `import seaborn as sns`\n",
    "\n",
    "Seaborn provides us with some very fancy and easy to use plots. It can handle Pandas columns, Numpy arrays, ordinary Python lists, you name it.  \n",
    "\n",
    "I won't show more than one example here because there's another lesson covering several visualizations, but check out the official seaborn [example gallery](https://seaborn.pydata.org/examples/index.html) for the cool stuff you can do.\n",
    "\n",
    "Also, before you can get plots to show up in jupyter notebooks, you probably have to do `%matplotlib inline` to tell the notebook to render plots within the webpage.  "
   ]
  },
  {
   "cell_type": "code",
   "execution_count": 9,
   "metadata": {},
   "outputs": [
    {
     "data": {
      "text/plain": [
       "<seaborn.axisgrid.PairGrid at 0x1108aeda0>"
      ]
     },
     "execution_count": 9,
     "metadata": {},
     "output_type": "execute_result"
    },
    {
     "data": {
      "image/png": "[encoded data removed]",
      "text/plain": [
       "<matplotlib.figure.Figure at 0x117c32d30>"
      ]
     },
     "metadata": {},
     "output_type": "display_data"
    }
   ],
   "source": [
    "import seaborn as sns\n",
    "%matplotlib inline\n",
    "sns.pairplot(df[[\"RoLScore\", \"pol_plur\", \"free_expr\", \"assoc_org\", \"per_auto\"]])"
   ]
  },
  {
   "cell_type": "markdown",
   "metadata": {},
   "source": [
    "## Statsmodels and/or Scipy\n",
    "\n",
    "Statsmodels and Scipy are libraries that provide a bunch of statistical functionality. For example, if you want to do a hypothesis test, you'd go there.  Statsmodels has more robust functionality, more or less, but also pretty terrible documentation, weird rules about what you have to import, etc.  I'll probably grab bits and pieces of each library as we go forward into our stats section. \n",
    "\n",
    "Here's an example from statsmodels. Don't worry too much about it for now."
   ]
  },
  {
   "cell_type": "code",
   "execution_count": 10,
   "metadata": {},
   "outputs": [
    {
     "name": "stdout",
     "output_type": "stream",
     "text": [
      "                            OLS Regression Results                            \n",
      "==============================================================================\n",
      "Dep. Variable:               RoLScore   R-squared:                       0.880\n",
      "Model:                            OLS   Adj. R-squared:                  0.876\n",
      "Method:                 Least Squares   F-statistic:                     212.4\n",
      "Date:                Fri, 25 Jan 2019   Prob (F-statistic):           6.49e-40\n",
      "Time:                        23:48:52   Log-Likelihood:                -283.38\n",
      "No. Observations:                  91   AIC:                             574.8\n",
      "Df Residuals:                      87   BIC:                             584.8\n",
      "Df Model:                           3                                         \n",
      "Covariance Type:            nonrobust                                         \n",
      "==============================================================================\n",
      "                 coef    std err          t      P>|t|      [0.025      0.975]\n",
      "------------------------------------------------------------------------------\n",
      "Intercept     12.1298      2.084      5.821      0.000       7.988      16.271\n",
      "assoc_org     -0.2617      0.406     -0.644      0.521      -1.070       0.546\n",
      "per_auto       2.6070      0.492      5.298      0.000       1.629       3.585\n",
      "hprop          0.2985      0.040      7.386      0.000       0.218       0.379\n",
      "==============================================================================\n",
      "Omnibus:                        0.049   Durbin-Watson:                   2.109\n",
      "Prob(Omnibus):                  0.976   Jarque-Bera (JB):                0.031\n",
      "Skew:                          -0.030   Prob(JB):                        0.984\n",
      "Kurtosis:                       2.931   Cond. No.                         200.\n",
      "==============================================================================\n",
      "\n",
      "Warnings:\n",
      "[1] Standard Errors assume that the covariance matrix of the errors is correctly specified.\n"
     ]
    }
   ],
   "source": [
    "import statsmodels.formula.api as smf\n",
    "regression = smf.ols('RoLScore ~ assoc_org + per_auto + hprop', data=df).fit()\n",
    "print(regression.summary())"
   ]
  },
  {
   "cell_type": "markdown",
   "metadata": {},
   "source": [
    "\n",
    "<hr>\n",
    "[Download this lesson in PDF]({attach}../images/key-libraries.pdf) [Download Jupyter Notebook file]({static}key-libraries.ipynb)\n",
    "<hr>"
   ]
  }
 ],
 "metadata": {
  "kernelspec": {
   "display_name": "Python 3",
   "language": "python",
   "name": "python3"
  },
  "language_info": {
   "codemirror_mode": {
    "name": "ipython",
    "version": 3
   },
   "file_extension": ".py",
   "mimetype": "text/x-python",
   "name": "python",
   "nbconvert_exporter": "python",
   "pygments_lexer": "ipython3",
   "version": "3.5.4"
  }
 },
 "nbformat": 4,
 "nbformat_minor": 2
}
