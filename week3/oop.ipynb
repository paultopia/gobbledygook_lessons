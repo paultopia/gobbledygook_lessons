{
 "cells": [
  {
   "cell_type": "markdown",
   "metadata": {},
   "source": [
    "- Title: Object-Oriented Programming\n",
    "- Date: 2019-01-18\n",
    "- Tags: python, programming, week3, object-oriented"
   ]
  },
  {
   "cell_type": "markdown",
   "metadata": {},
   "source": [
    "**Object-oriented programming** (OOP) isn't all that special, it's just a particular style of programming that Python is particularly well designed for.  This is a short lesson, we won't cover the theory of OOP, or features you might hear about elsewhere like \"inheritance\"---see your reading in the P4E book for more.  \n",
    "\n",
    "However, we have to say something about OOP in order to enable you to work with many Python libraries, which expect you to be able to instantiate objects and work with them.  So here's the short version. \n",
    "\n",
    "OOP is another kind of mental model for programming. It mostly is useful for organizing the abstractions in your code.  One of the key ideas is that groups of related data and functionality can be tied together in the form of objects. \n",
    "\n",
    "A **class** is an abstract description of a kind of object. A class declaration will say what kind of things an object of that sort can do. \n",
    "\n",
    "An **instance** is an actual object that you create and make use of in the computer's memory.  \n",
    "\n",
    "Let's look at a trivial example of a class"
   ]
  },
  {
   "cell_type": "code",
   "execution_count": 1,
   "metadata": {},
   "outputs": [],
   "source": [
    "class Dog(object):\n",
    "    def __init__(self, temperament=\"normal\"):\n",
    "        self.temperament = temperament\n",
    "        \n",
    "    def bark(self, volume=\"loud\"):\n",
    "        if self.temperament == \"vicious\":\n",
    "            sound = \"snarl!!!\"\n",
    "        elif self.temperament == \"timid\":\n",
    "            sound = \"wimper?\"\n",
    "        else:\n",
    "            sound = \"woof.\"\n",
    "        if volume == \"loud\":\n",
    "            print(sound.upper())\n",
    "        else:\n",
    "            print(sound)\n",
    "            \n",
    "    def meet_cat(self):\n",
    "        self.temperament = \"timid\"\n",
    "        self.understanding = \"inferior\""
   ]
  },
  {
   "cell_type": "markdown",
   "metadata": {},
   "source": [
    "Here's what you need to know about this code.  \n",
    "\n",
    "1.  Functions belonging to a class are called **methods**.  You can tell that they belong to the class because they are indented under the class declaration in the first line. \n",
    "\n",
    "2.  Every method takes a special parameter to refer to the object on which it is called as the very first parameter.  Here, we're using `self` for that, which is the Python convention, but you could use anything else.  When you call these methods, you don't supply the value for the self parameter.  We'll see how to call them in a moment.  \n",
    "\n",
    "3.  Every class has an `__init__` method.  The two underscores on either side of the name show you it's a special method (known as \"magic methods\" in Python slang... there are a number of those, but init is the most important).  This is the method that gets called when you **initialize** a class, that is, create an instance of that class. \n",
    "\n",
    "4.  All those references to `self.temperment` are creating (the first time something is assigned to it) and either mutating or examining an **attribute** (also called a property) of a particular instance.  Let's look at some examples of instances."
   ]
  },
  {
   "cell_type": "code",
   "execution_count": 2,
   "metadata": {},
   "outputs": [],
   "source": [
    "goodboy = Dog()\n",
    "doberman = Dog(\"vicious\")"
   ]
  },
  {
   "cell_type": "markdown",
   "metadata": {},
   "source": [
    "We've created two different instances of `Dog` and each of them has its own set of instance properties.  Let's prove that by calling the bark method."
   ]
  },
  {
   "cell_type": "code",
   "execution_count": 3,
   "metadata": {},
   "outputs": [],
   "source": [
    "doberman.bark()"
   ]
  },
  {
   "cell_type": "code",
   "execution_count": 4,
   "metadata": {},
   "outputs": [],
   "source": [
    "goodboy.bark(\"quiet\")"
   ]
  },
  {
   "cell_type": "markdown",
   "metadata": {},
   "source": [
    "Here are a few things you can observe from those examples: \n",
    "\n",
    "1.  We instantiate a class by calling it as if it were a function.  We can pass parameters into its `__init__` method that way too.\n",
    "\n",
    "2.  `doberman` and `goodboy` have different `temperament` properties, hence they make different sounds when we call their `bark()` methods.\n",
    "\n",
    "3.  We call a method on an instance by putting a period after the instance's name and before the method call.  We don't pass the instance into the call, but we do pass any other parameters (like `volume` here) that we want. \n",
    "\n",
    "4.  Instances are totally separate.  Nothing we do to `goodboy` affects `doberman` or vice versa."
   ]
  },
  {
   "cell_type": "markdown",
   "metadata": {},
   "source": [
    "We can also modify existing instance attributes, and we can access them directly with the same dot notation.  Let's look at, then modify, doberman's attributes."
   ]
  },
  {
   "cell_type": "code",
   "execution_count": 5,
   "metadata": {},
   "outputs": [],
   "source": [
    "print(doberman.temperament)"
   ]
  },
  {
   "cell_type": "code",
   "execution_count": 6,
   "metadata": {},
   "outputs": [],
   "source": [
    "doberman.meet_cat()"
   ]
  },
  {
   "cell_type": "code",
   "execution_count": 7,
   "metadata": {},
   "outputs": [
    {
     "name": "stdout",
     "output_type": "stream",
     "text": [
      "timid\n"
     ]
    }
   ],
   "source": [
    "print(doberman.temperament)"
   ]
  },
  {
   "cell_type": "code",
   "execution_count": 8,
   "metadata": {},
   "outputs": [
    {
     "name": "stdout",
     "output_type": "stream",
     "text": [
      "inferior\n"
     ]
    }
   ],
   "source": [
    "print(doberman.understanding)"
   ]
  },
  {
   "cell_type": "code",
   "execution_count": 9,
   "metadata": {},
   "outputs": [
    {
     "name": "stdout",
     "output_type": "stream",
     "text": [
      "WIMPER?\n"
     ]
    }
   ],
   "source": [
    "doberman.bark()"
   ]
  },
  {
   "cell_type": "code",
   "execution_count": 10,
   "metadata": {},
   "outputs": [],
   "source": [
    "doberman.temperament = \"vicious\""
   ]
  },
  {
   "cell_type": "code",
   "execution_count": 11,
   "metadata": {},
   "outputs": [
    {
     "name": "stdout",
     "output_type": "stream",
     "text": [
      "SNARL!!!\n"
     ]
    }
   ],
   "source": [
    "doberman.bark()"
   ]
  },
  {
   "cell_type": "code",
   "execution_count": 12,
   "metadata": {},
   "outputs": [
    {
     "name": "stdout",
     "output_type": "stream",
     "text": [
      "WOOF.\n"
     ]
    }
   ],
   "source": [
    "goodboy.bark()"
   ]
  },
  {
   "cell_type": "markdown",
   "metadata": {},
   "source": [
    "As I said, this is the bare minimum to understand what's going on when you see OOP code.  This will benefit you in the next lesson, where we'll look at some OOP code to run a simulation. It will also benefit you in interacting with Python libraries which often expect you to know how to instantiate an object, call methods on it, and access its properties."
   ]
  }
 ],
 "metadata": {
  "kernelspec": {
   "display_name": "Python 3",
   "language": "python",
   "name": "python3"
  },
  "language_info": {
   "codemirror_mode": {
    "name": "ipython",
    "version": 3
   },
   "file_extension": ".py",
   "mimetype": "text/x-python",
   "name": "python",
   "nbconvert_exporter": "python",
   "pygments_lexer": "ipython3",
   "version": "3.5.4"
  }
 },
 "nbformat": 4,
 "nbformat_minor": 2
}
